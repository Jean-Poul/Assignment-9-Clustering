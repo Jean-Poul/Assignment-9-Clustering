{
 "cells": [
  {
   "cell_type": "markdown",
   "id": "78cc3a2d",
   "metadata": {},
   "source": [
    "# Assignment 9 - Clustering\n",
    "\n",
    "- Allan Simonsen\n",
    "- Jean-Poul Leth-Møller\n",
    "- Nina Lisakowski\n",
    "\n",
    "## Import of libraries"
   ]
  },
  {
   "cell_type": "code",
   "execution_count": null,
   "id": "b8c385f1",
   "metadata": {},
   "outputs": [],
   "source": [
    "#The following libraries and modules are needed.\n",
    "\n",
    "# import pandas for structuring the data\n",
    "import pandas as pd\n",
    "#from pandas.plotting import scatter_matrix\n",
    "\n",
    "\n",
    "#numpy for splitting the data\n",
    "import numpy as np\n",
    "\n",
    "#machine learing\n",
    "#from sklearn import model_selection\n",
    "#from sklearn.metrics import classification_report\n",
    "#from sklearn.metrics import confusion_matrix\n",
    "#from sklearn.metrics import accuracy_score\n",
    "#from sklearn.naive_bayes import GaussianNB\n",
    "#from sklearn.linear_model import LogisticRegression\n",
    "#from sklearn.tree import DecisionTreeClassifier\n",
    "#from sklearn.neighbors import KNeighborsClassifier\n",
    "#from sklearn.svm import SVC\n",
    "#from sklearn.decomposition import PCA#\n",
    "#from sklearn.preprocessing import StandardScaler\n",
    "\n",
    "\n",
    "\n",
    "\n",
    "\n",
    "#PLOTS!\n",
    "#import seaborn as sns\n",
    "#import matplotlib.pyplot as plt"
   ]
  },
  {
   "cell_type": "markdown",
   "id": "f6163c23",
   "metadata": {},
   "source": [
    "## Task 1"
   ]
  },
  {
   "cell_type": "code",
   "execution_count": null,
   "id": "99612593",
   "metadata": {},
   "outputs": [],
   "source": [
    "tekst tekst tekst"
   ]
  },
  {
   "cell_type": "code",
   "execution_count": null,
   "id": "4207bf10",
   "metadata": {},
   "outputs": [],
   "source": []
  },
  {
   "cell_type": "markdown",
   "id": "623adc55",
   "metadata": {},
   "source": []
  }
 ],
 "metadata": {
  "kernelspec": {
   "display_name": "Python 3 (ipykernel)",
   "language": "python",
   "name": "python3"
  },
  "language_info": {
   "codemirror_mode": {
    "name": "ipython",
    "version": 3
   },
   "file_extension": ".py",
   "mimetype": "text/x-python",
   "name": "python",
   "nbconvert_exporter": "python",
   "pygments_lexer": "ipython3",
   "version": "3.9.7"
  }
 },
 "nbformat": 4,
 "nbformat_minor": 5
}
